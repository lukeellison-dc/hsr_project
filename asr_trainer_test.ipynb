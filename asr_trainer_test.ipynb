{
 "cells": [
  {
   "cell_type": "code",
   "execution_count": 1,
   "metadata": {},
   "outputs": [],
   "source": [
    "%load_ext autoreload"
   ]
  },
  {
   "cell_type": "code",
   "execution_count": 2,
   "metadata": {},
   "outputs": [],
   "source": [
    "%autoreload 2\n",
    "from asr_trainer import ASRTrainer, CVDataset, CTCLoss"
   ]
  },
  {
   "cell_type": "code",
   "execution_count": 3,
   "metadata": {},
   "outputs": [
    {
     "name": "stdout",
     "output_type": "stream",
     "text": [
      "Loading model 'facebook/wav2vec2-base-960h' to device 'cpu'\n"
     ]
    },
    {
     "name": "stderr",
     "output_type": "stream",
     "text": [
      "Some weights of Wav2Vec2ForCTC were not initialized from the model checkpoint at facebook/wav2vec2-base-960h and are newly initialized: ['wav2vec2.masked_spec_embed']\n",
      "You should probably TRAIN this model on a down-stream task to be able to use it for predictions and inference.\n"
     ]
    }
   ],
   "source": [
    "asrt = ASRTrainer()\n",
    "asrt.load_model()\n",
    "\n",
    "cvd = CVDataset(asrt.processor)\n",
    "ctc_loss = CTCLoss()"
   ]
  },
  {
   "cell_type": "code",
   "execution_count": 4,
   "metadata": {},
   "outputs": [
    {
     "name": "stdout",
     "output_type": "stream",
     "text": [
      "{'input_values': tensor([[1.9897e-05, 1.9897e-05, 1.9897e-05,  ..., 2.6142e-05, 2.6927e-05,\n",
      "         3.3459e-05]]),\n",
      " 'sentence': 'Joe Keaton disapproved of films, and Buster also had '\n",
      "             'reservations about the medium.',\n",
      " 'wav': tensor([[-7.3703e-13, -7.9181e-12, -7.6020e-12,  ...,  7.5047e-07,\n",
      "          8.4476e-07,  1.6297e-06]])}\n"
     ]
    }
   ],
   "source": [
    "from pprint import pprint\n",
    "test_item = next(cvd.single_dataloader('test'))\n",
    "pprint(test_item)"
   ]
  },
  {
   "cell_type": "code",
   "execution_count": 5,
   "metadata": {},
   "outputs": [
    {
     "name": "stdout",
     "output_type": "stream",
     "text": [
      "torch.Size([1, 100800])\n",
      "JO KEEPSAN DISAPPROVED OF THONES AND BUSTER ALSO HAD HESERVATIONS ABOUT THE MEDIUM\n"
     ]
    }
   ],
   "source": [
    "input_values = test_item[\"input_values\"]\n",
    "print(input_values.shape)\n",
    "pred_sentence = asrt.predict_argmax(input_values)\n",
    "print(pred_sentence)"
   ]
  },
  {
   "cell_type": "code",
   "execution_count": 6,
   "metadata": {},
   "outputs": [
    {
     "name": "stdout",
     "output_type": "stream",
     "text": [
      "torch.Size([1, 314, 32])\n",
      "torch.Size([1, 314])\n",
      "torch.Size([1, 300])\n",
      "tensor([[ 0,  0,  0,  0,  0,  0,  0,  0,  0,  0,  0,  0,  0,  0,  0,  0,  0,  0,\n",
      "          0,  0,  0,  0,  0,  0,  0,  0,  0,  0,  0,  0,  0,  0,  0,  0,  0,  0,\n",
      "          0,  0, 29,  0,  0,  0,  0,  8,  0,  0,  0,  0,  0,  0,  0,  4,  0, 26,\n",
      "          0,  0,  5,  0,  0,  5,  0, 23,  0,  0, 12,  0,  0,  0,  7,  0,  9,  0,\n",
      "          0,  4,  4, 14,  0,  0, 10,  0, 12,  0,  0,  0,  0,  7, 23,  0,  0,  0,\n",
      "         23,  0, 13,  0,  0,  0,  8,  8,  0, 25,  0,  0,  5, 14,  0,  4,  4,  0,\n",
      "          0,  8, 20,  0,  4,  4,  4,  0,  0,  0,  6, 11,  0,  0,  0,  0,  8,  0,\n",
      "          0,  0,  9,  5,  0,  0, 12, 12,  4,  4,  0,  0,  0,  0,  7,  9,  0, 14,\n",
      "          0,  4,  4,  4,  0, 24,  0,  0,  0, 16,  0,  0, 12, 12,  0,  6,  0,  0,\n",
      "          0,  5, 13, 13,  0,  4,  4,  0,  0,  7, 15,  0,  0,  0,  0, 12,  0,  0,\n",
      "          8,  0,  4,  4,  0, 11,  0,  0,  7,  0,  0, 14,  4,  4,  4, 11,  0,  0,\n",
      "          5,  0,  0,  0, 12,  0,  0,  5, 13, 13,  0,  0, 25,  0,  0,  0,  0,  7,\n",
      "          0,  0,  0,  0,  6, 10, 10,  0,  8,  9,  9,  0, 12,  0,  4,  4,  0,  0,\n",
      "          7,  0,  0, 24,  0,  0,  8, 16,  0,  0,  6,  4,  4,  6, 11,  0,  5,  4,\n",
      "          4,  0, 17,  0,  0,  0,  5,  0,  0, 14,  0, 10, 10,  0,  0, 16, 17,  0,\n",
      "          4,  4,  4,  0,  0,  0,  0,  0,  0,  0,  0,  0,  0,  0,  0,  0,  0,  0,\n",
      "          0,  0,  0,  0,  0,  0,  0,  0,  0,  0,  0,  0,  0,  0,  0,  0,  0,  0,\n",
      "          0,  0,  0,  0,  0,  0,  0,  0]])\n",
      "tensor([[29,  8,  4, 26,  5,  5, 23, 12,  7,  9,  4, 14, 10, 12,  7, 23, 23, 13,\n",
      "          8, 25,  5, 14,  4,  8, 20,  4,  6, 11,  8,  9,  5, 12,  4,  7,  9, 14,\n",
      "          4, 24, 16, 12,  6,  5, 13,  4,  7, 15, 12,  8,  4, 11,  7, 14,  4, 11,\n",
      "          5, 12,  5, 13, 25,  7,  6, 10,  8,  9, 12,  4,  7, 24,  8, 16,  6,  4,\n",
      "          6, 11,  5,  4, 17,  5, 14, 10, 16, 17,  0,  0,  0,  0,  0,  0,  0,  0,\n",
      "          0,  0,  0,  0,  0,  0,  0,  0,  0,  0,  0,  0,  0,  0,  0,  0,  0,  0,\n",
      "          0,  0,  0,  0,  0,  0,  0,  0,  0,  0,  0,  0,  0,  0,  0,  0,  0,  0,\n",
      "          0,  0,  0,  0,  0,  0,  0,  0,  0,  0,  0,  0,  0,  0,  0,  0,  0,  0,\n",
      "          0,  0,  0,  0,  0,  0,  0,  0,  0,  0,  0,  0,  0,  0,  0,  0,  0,  0,\n",
      "          0,  0,  0,  0,  0,  0,  0,  0,  0,  0,  0,  0,  0,  0,  0,  0,  0,  0,\n",
      "          0,  0,  0,  0,  0,  0,  0,  0,  0,  0,  0,  0,  0,  0,  0,  0,  0,  0,\n",
      "          0,  0,  0,  0,  0,  0,  0,  0,  0,  0,  0,  0,  0,  0,  0,  0,  0,  0,\n",
      "          0,  0,  0,  0,  0,  0,  0,  0,  0,  0,  0,  0,  0,  0,  0,  0,  0,  0,\n",
      "          0,  0,  0,  0,  0,  0,  0,  0,  0,  0,  0,  0,  0,  0,  0,  0,  0,  0,\n",
      "          0,  0,  0,  0,  0,  0,  0,  0,  0,  0,  0,  0,  0,  0,  0,  0,  0,  0,\n",
      "          0,  0,  0,  0,  0,  0,  0,  0,  0,  0,  0,  0,  0,  0,  0,  0,  0,  0,\n",
      "          0,  0,  0,  0,  0,  0,  0,  0,  0,  0,  0,  0]], dtype=torch.int32)\n"
     ]
    }
   ],
   "source": [
    "logits = asrt.get_logits(input_values)\n",
    "print(logits.shape)\n",
    "pred_ids = asrt.pred_ids_from_logits(logits)\n",
    "print(pred_ids.shape)\n",
    "target = ctc_loss.sentence_to_target(pred_sentence)\n",
    "print(target[\"target\"].shape)\n",
    "\n",
    "print(pred_ids)\n",
    "print(target[\"target\"])\n",
    "\n",
    "target_iter = iter(target[\"target\"][0])\n",
    "last = 0\n",
    "for x in pred_ids[0]:\n",
    "    if x != 0 and x != last:\n",
    "        target_val = next(target_iter)\n",
    "        if target_val == 0 and x == 4:\n",
    "            pass #end of sentence\n",
    "        else:\n",
    "            assert x == target_val, f\"No match for '{x}' - '{target_val}\"\n",
    "    last = x"
   ]
  },
  {
   "cell_type": "code",
   "execution_count": 7,
   "metadata": {},
   "outputs": [
    {
     "name": "stdout",
     "output_type": "stream",
     "text": [
      "tensor(0.3380)\n",
      "tensor(31.7048)\n"
     ]
    }
   ],
   "source": [
    "# target[\"target\"][0] = 29\n",
    "print(ctc_loss.singleLoss(logits, target))\n",
    "target[\"target\"][0] = 1\n",
    "print(ctc_loss.singleLoss(logits, target))"
   ]
  }
 ],
 "metadata": {
  "kernelspec": {
   "display_name": "Python 3.9.12 ('hsr_project')",
   "language": "python",
   "name": "python3"
  },
  "language_info": {
   "codemirror_mode": {
    "name": "ipython",
    "version": 3
   },
   "file_extension": ".py",
   "mimetype": "text/x-python",
   "name": "python",
   "nbconvert_exporter": "python",
   "pygments_lexer": "ipython3",
   "version": "3.9.12"
  },
  "orig_nbformat": 4,
  "vscode": {
   "interpreter": {
    "hash": "7290f501d4b4b442b548a0f8d71ceee2effc5d79228398df96959ebe12767d93"
   }
  }
 },
 "nbformat": 4,
 "nbformat_minor": 2
}
